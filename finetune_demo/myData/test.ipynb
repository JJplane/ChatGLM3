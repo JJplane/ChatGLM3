{
 "cells": [
  {
   "cell_type": "code",
   "execution_count": 1,
   "metadata": {},
   "outputs": [],
   "source": [
    "import re\n",
    "\n",
    "def parse_chat_record(record):\n",
    "    # 使用正则表达式提取发言者、时间和内容\n",
    "    # 玖尔巴奇 (2021-05-27 22:37:05):我来啦！\n",
    "    speaker = record.split(' ')[0]\n",
    "    time = re.search(r'\\d{4}-\\d{2}-\\d{2} \\d{2}:\\d{2}:\\d{2}', record)\n",
    "    if time:\n",
    "        time = time.group()\n",
    "    else:\n",
    "        time = None\n",
    "    content = record.split(':')[-1]\n",
    "    if speaker and time and content:\n",
    "        return speaker, time, content\n",
    "    else:\n",
    "        return None\n",
    "\n",
    "def parse_chat_records(filename):\n",
    "    parsed_records = []\n",
    "    with open(filename, 'r') as file:\n",
    "        for line in file:\n",
    "            parsed_record = parse_chat_record(line.strip())\n",
    "            if parsed_record:\n",
    "                parsed_records.append(parsed_record)\n",
    "    return parsed_records\n",
    "\n",
    "# 读取聊天记录\n",
    "filename = 'chat.txt'\n",
    "records = parse_chat_records(filename)"
   ]
  },
  {
   "cell_type": "code",
   "execution_count": 10,
   "metadata": {},
   "outputs": [],
   "source": [
    "# 说话人改变则分块\n",
    "chunks = []\n",
    "chunk = []\n",
    "for record in records:\n",
    "    if chunk and record[0] != chunk[-1][0]:\n",
    "        chunks.append(chunk)\n",
    "        chunk = []\n",
    "    # 记录只有[表情]，[视频/语音通话]，[图片]，则跳过\n",
    "    if record[2] in ['[表情]', '[视频/语音通话]', '[图片]']:\n",
    "        continue\n",
    "    chunk.append(record)\n",
    "chunks.append(chunk)"
   ]
  },
  {
   "cell_type": "code",
   "execution_count": 19,
   "metadata": {},
   "outputs": [],
   "source": [
    "from datetime import datetime\n",
    "# 对于每个块，如果一条记录离上一条记录的时间超过五个小时，则分割这个块。\n",
    "# 例如，如果一条记录的时间是2021-05-27 22:37:05，而上一条记录的时间是2021-05-27 17:37:05，则分割这个块。\n",
    "# 这样做的目的是为了防止一次聊天中间有很长时间的空档。\n",
    "# 例如，如果一次聊天中间有一段时间没有聊天记录，那么这段时间的记录就不应该被用于训练。\n",
    "new_chunks = []\n",
    "for chunk in chunks:\n",
    "    new_chunk = []\n",
    "    for i in range(len(chunk)):\n",
    "        if i == 0 or (datetime.strptime(chunk[i][1], '%Y-%m-%d %H:%M:%S') - datetime.strptime(chunk[i - 1][1], '%Y-%m-%d %H:%M:%S')).seconds <= 5 * 60 * 60:\n",
    "            new_chunk.append(chunk[i])\n",
    "        else:\n",
    "            new_chunks.append(new_chunk)\n",
    "            new_chunk = []\n",
    "    new_chunks.append(new_chunk)\n",
    "# 删除空块\n",
    "new_chunks = [chunk for chunk in new_chunks if chunk]"
   ]
  },
  {
   "cell_type": "code",
   "execution_count": 22,
   "metadata": {},
   "outputs": [],
   "source": [
    "dataset = []\n",
    "# 找到玖尔巴奇的chunk，以及后面的及🐔的chunk，组成pair\n",
    "for i in range(len(new_chunks) - 1):\n",
    "    if new_chunks[i][0][0] == '玖尔巴奇' and new_chunks[i + 1][0][0] == '及🐔':\n",
    "        dataset.append({\"content\":'。'.join([record[2] for record in new_chunks[i]]),\"summary\":'。'.join([record[2] for record in new_chunks[i + 1]])})"
   ]
  },
  {
   "cell_type": "code",
   "execution_count": 24,
   "metadata": {},
   "outputs": [],
   "source": [
    "import json\n",
    "with open('dataset.json', 'w') as file:\n",
    "    json.dump(dataset, file, ensure_ascii=False, indent=4)\n",
    "# 划分训练集和测试集1:99\n",
    "import random\n",
    "random.shuffle(dataset)\n",
    "testset = dataset[:int(len(dataset) * 0.01)]\n",
    "trainset = dataset[int(len(dataset) * 0.01):]\n",
    "# 保存训练集和测试集\n",
    "with open('train.json', 'w') as file:\n",
    "    json.dump(trainset, file, ensure_ascii=False, indent=4)\n",
    "with open('dev.json', 'w') as file:\n",
    "    json.dump(testset, file, ensure_ascii=False, indent=4)"
   ]
  },
  {
   "cell_type": "code",
   "execution_count": null,
   "metadata": {},
   "outputs": [],
   "source": []
  }
 ],
 "metadata": {
  "kernelspec": {
   "display_name": "qchat",
   "language": "python",
   "name": "python3"
  },
  "language_info": {
   "codemirror_mode": {
    "name": "ipython",
    "version": 3
   },
   "file_extension": ".py",
   "mimetype": "text/x-python",
   "name": "python",
   "nbconvert_exporter": "python",
   "pygments_lexer": "ipython3",
   "version": "3.8.8"
  },
  "orig_nbformat": 4
 },
 "nbformat": 4,
 "nbformat_minor": 2
}
